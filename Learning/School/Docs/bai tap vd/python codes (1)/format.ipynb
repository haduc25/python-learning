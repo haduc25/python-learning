{
 "cells": [
  {
   "cell_type": "code",
   "execution_count": 1,
   "id": "f42424ea",
   "metadata": {},
   "outputs": [
    {
     "name": "stdout",
     "output_type": "stream",
     "text": [
      "10-20-30\n"
     ]
    }
   ],
   "source": [
    "a= 10\n",
    "b= 20\n",
    "c = 30\n",
    "s = \"{0}-{1}-{2}\".format(a, b, c)\n",
    "print(s)"
   ]
  },
  {
   "cell_type": "code",
   "execution_count": 3,
   "id": "76702e84",
   "metadata": {},
   "outputs": [
    {
     "name": "stdout",
     "output_type": "stream",
     "text": [
      "28/2/2023\n"
     ]
    }
   ],
   "source": [
    "def Date(d, m, y):\n",
    "    return \"{0}/{1}/{2}\".format(d, m, y)\n",
    "\n",
    "day = 28\n",
    "month = 2\n",
    "year = 2023\n",
    "print(Date(day, month, year))"
   ]
  },
  {
   "cell_type": "code",
   "execution_count": null,
   "id": "410b7b23",
   "metadata": {},
   "outputs": [],
   "source": []
  }
 ],
 "metadata": {
  "kernelspec": {
   "display_name": "Python 3 (ipykernel)",
   "language": "python",
   "name": "python3"
  },
  "language_info": {
   "codemirror_mode": {
    "name": "ipython",
    "version": 3
   },
   "file_extension": ".py",
   "mimetype": "text/x-python",
   "name": "python",
   "nbconvert_exporter": "python",
   "pygments_lexer": "ipython3",
   "version": "3.9.13"
  }
 },
 "nbformat": 4,
 "nbformat_minor": 5
}
