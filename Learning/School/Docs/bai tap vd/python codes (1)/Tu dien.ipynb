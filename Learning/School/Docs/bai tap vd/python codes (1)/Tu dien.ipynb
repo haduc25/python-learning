{
 "cells": [
  {
   "cell_type": "code",
   "execution_count": 10,
   "id": "33483a4f",
   "metadata": {},
   "outputs": [
    {
     "name": "stdout",
     "output_type": "stream",
     "text": [
      "Nguyễn Văn A\n",
      "Nam\n",
      "dict_keys(['HoTen', 'GioiTinh', 'Tuoi'])\n",
      "<class 'dict_keys'>\n",
      "dict_values(['Nguyễn Văn A', 'Nam', 20])\n",
      "<class 'dict_values'>\n",
      "dict_items([('HoTen', 'Nguyễn Văn A'), ('GioiTinh', 'Nam'), ('Tuoi', 20)])\n",
      "<class 'dict_items'>\n"
     ]
    }
   ],
   "source": [
    "dict = {\"HoTen\": \"Nguyễn Văn A\", \n",
    "       \"GioiTinh\": \"Nam\",\n",
    "       \"Tuoi\": 20\n",
    "      }\n",
    "\n",
    "print(dict[\"HoTen\"])\n",
    "print(dict.get(\"GioiTinh\"))\n",
    "\n",
    "# Lấy toàn bộ danh sách key\n",
    "\n",
    "print(dict.keys())\n",
    "print(type(dict.keys()))\n",
    "\n",
    "\n",
    "print(dict.values())\n",
    "print(type(dict.values()))\n",
    "\n",
    "print(dict.items())\n",
    "print(type(dict.items()))"
   ]
  },
  {
   "cell_type": "code",
   "execution_count": 19,
   "id": "48d4ffb0",
   "metadata": {},
   "outputs": [
    {
     "name": "stdout",
     "output_type": "stream",
     "text": [
      "Nguyễn Văn A\n",
      "('B', 11)\n",
      "{'GioiTinh': 'Nam', 'Tuoi': 20}\n"
     ]
    }
   ],
   "source": [
    "dict = {\"HoTen\": \"Nguyễn Văn A\", \n",
    "       \"GioiTinh\": \"Nam\",\n",
    "       \"Tuoi\": 20\n",
    "      }\n",
    "dict[\"A\"] = 10\n",
    "dict[\"B\"] = 11\n",
    "\n",
    "print(dict.pop(\"HoTen\"))\n",
    "#print(dict)\n",
    "\n",
    "print(dict.popitem())\n",
    "\n",
    "del dict[\"A\"]\n",
    "\n",
    "print(dict)\n"
   ]
  },
  {
   "cell_type": "code",
   "execution_count": null,
   "id": "c1bcd998",
   "metadata": {},
   "outputs": [],
   "source": []
  }
 ],
 "metadata": {
  "kernelspec": {
   "display_name": "Python 3 (ipykernel)",
   "language": "python",
   "name": "python3"
  },
  "language_info": {
   "codemirror_mode": {
    "name": "ipython",
    "version": 3
   },
   "file_extension": ".py",
   "mimetype": "text/x-python",
   "name": "python",
   "nbconvert_exporter": "python",
   "pygments_lexer": "ipython3",
   "version": "3.9.13"
  }
 },
 "nbformat": 4,
 "nbformat_minor": 5
}
