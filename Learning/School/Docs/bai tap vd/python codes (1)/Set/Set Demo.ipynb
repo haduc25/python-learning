{
 "cells": [
  {
   "cell_type": "code",
   "execution_count": 18,
   "id": "bf032044",
   "metadata": {},
   "outputs": [
    {
     "name": "stdout",
     "output_type": "stream",
     "text": [
      "Len: 6\n",
      "1\n",
      "2\n",
      "3\n",
      "5\n",
      "Ba\n",
      "Hai\n",
      "Một\n"
     ]
    }
   ],
   "source": [
    "# Gán giá trị cho một set\n",
    "mySet ={1, 2, 3,\"Một\", \"Hai\", \"Ba\"}\n",
    "\n",
    "# Dùng hàm khởi tạo set\n",
    "mySet =set((1, 2, 3,\"Một\", \"Hai\", \"Ba\"))\n",
    "\n",
    "print(\"Len: {0}\".format(len(mySet)))\n",
    "\n",
    "mySet.add(5)\n",
    "\n",
    "for x in mySet:\n",
    "    print(x)\n"
   ]
  },
  {
   "cell_type": "code",
   "execution_count": 13,
   "id": "aeaafba5",
   "metadata": {},
   "outputs": [
    {
     "name": "stdout",
     "output_type": "stream",
     "text": [
      "{1, 2, 3, 4, 5, 6}\n",
      "{4, 5, 6}\n",
      "1\n",
      "{2, 3, 4, 5, 6}\n"
     ]
    }
   ],
   "source": [
    "a = {1, 2, 3}\n",
    "b = {4, 5, 6}\n",
    "\n",
    "a.update(b)\n",
    "\n",
    "print(a)\n",
    "print(b)\n",
    "\n"
   ]
  },
  {
   "cell_type": "code",
   "execution_count": 14,
   "id": "ea47d560",
   "metadata": {},
   "outputs": [
    {
     "name": "stdout",
     "output_type": "stream",
     "text": [
      "2\n",
      "{3, 4, 5, 6}\n"
     ]
    }
   ],
   "source": [
    "x = a.pop()\n",
    "print(x)\n",
    "print(a)"
   ]
  },
  {
   "cell_type": "code",
   "execution_count": 22,
   "id": "1d263902",
   "metadata": {},
   "outputs": [
    {
     "name": "stdout",
     "output_type": "stream",
     "text": [
      "1\n",
      "2\n",
      "3\n",
      "Ba\n",
      "Hai\n",
      "Một\n",
      "0\n"
     ]
    }
   ],
   "source": [
    "mySet =set((1, 2, 3,\"Một\", \"Hai\", \"Ba\"))\n",
    "while(len(mySet) > 0):\n",
    "    x = mySet.pop()\n",
    "    print(x)\n",
    "\n",
    "print(len(mySet))\n",
    "\n"
   ]
  },
  {
   "cell_type": "code",
   "execution_count": 27,
   "id": "a420a532",
   "metadata": {},
   "outputs": [
    {
     "name": "stdout",
     "output_type": "stream",
     "text": [
      "Len: 6\n",
      "Len: 0\n"
     ]
    },
    {
     "ename": "NameError",
     "evalue": "name 'mySet' is not defined",
     "output_type": "error",
     "traceback": [
      "\u001b[1;31m---------------------------------------------------------------------------\u001b[0m",
      "\u001b[1;31mNameError\u001b[0m                                 Traceback (most recent call last)",
      "\u001b[1;32m~\\AppData\\Local\\Temp\\ipykernel_10044\\3687738591.py\u001b[0m in \u001b[0;36m<module>\u001b[1;34m\u001b[0m\n\u001b[0;32m      8\u001b[0m \u001b[1;33m\u001b[0m\u001b[0m\n\u001b[0;32m      9\u001b[0m \u001b[1;32mdel\u001b[0m \u001b[0mmySet\u001b[0m\u001b[1;33m\u001b[0m\u001b[1;33m\u001b[0m\u001b[0m\n\u001b[1;32m---> 10\u001b[1;33m \u001b[0mprint\u001b[0m\u001b[1;33m(\u001b[0m\u001b[1;34m\"Len: {0}\"\u001b[0m\u001b[1;33m.\u001b[0m\u001b[0mformat\u001b[0m\u001b[1;33m(\u001b[0m\u001b[0mlen\u001b[0m\u001b[1;33m(\u001b[0m\u001b[0mmySet\u001b[0m\u001b[1;33m)\u001b[0m\u001b[1;33m)\u001b[0m\u001b[1;33m)\u001b[0m\u001b[1;33m\u001b[0m\u001b[1;33m\u001b[0m\u001b[0m\n\u001b[0m",
      "\u001b[1;31mNameError\u001b[0m: name 'mySet' is not defined"
     ]
    }
   ],
   "source": [
    "# xóa toàn bộ mySet\n",
    "mySet =set((1, 2, 3,\"Một\", \"Hai\", \"Ba\"))\n",
    "print(\"Len: {0}\".format(len(mySet)))\n",
    "\n",
    "mySet.clear()\n",
    "\n",
    "print(\"Len: {0}\".format(len(mySet)))\n"
   ]
  },
  {
   "cell_type": "code",
   "execution_count": 30,
   "id": "258a07f3",
   "metadata": {},
   "outputs": [
    {
     "name": "stdout",
     "output_type": "stream",
     "text": [
      "Len: 6\n"
     ]
    },
    {
     "ename": "NameError",
     "evalue": "name 'mySet' is not defined",
     "output_type": "error",
     "traceback": [
      "\u001b[1;31m---------------------------------------------------------------------------\u001b[0m",
      "\u001b[1;31mNameError\u001b[0m                                 Traceback (most recent call last)",
      "\u001b[1;32m~\\AppData\\Local\\Temp\\ipykernel_10044\\4061310957.py\u001b[0m in \u001b[0;36m<module>\u001b[1;34m\u001b[0m\n\u001b[0;32m      4\u001b[0m \u001b[1;33m\u001b[0m\u001b[0m\n\u001b[0;32m      5\u001b[0m \u001b[1;31m# Lỗi\u001b[0m\u001b[1;33m\u001b[0m\u001b[1;33m\u001b[0m\u001b[0m\n\u001b[1;32m----> 6\u001b[1;33m \u001b[0mprint\u001b[0m\u001b[1;33m(\u001b[0m\u001b[1;34m\"Len: {0}\"\u001b[0m\u001b[1;33m.\u001b[0m\u001b[0mformat\u001b[0m\u001b[1;33m(\u001b[0m\u001b[0mlen\u001b[0m\u001b[1;33m(\u001b[0m\u001b[0mmySet\u001b[0m\u001b[1;33m)\u001b[0m\u001b[1;33m)\u001b[0m\u001b[1;33m)\u001b[0m\u001b[1;33m\u001b[0m\u001b[1;33m\u001b[0m\u001b[0m\n\u001b[0m",
      "\u001b[1;31mNameError\u001b[0m: name 'mySet' is not defined"
     ]
    }
   ],
   "source": [
    "mySet =set((1, 2, 3,\"Một\", \"Hai\", \"Ba\"))\n",
    "print(\"Len: {0}\".format(len(mySet)))\n",
    "del mySet\n",
    "\n",
    "# Lỗi\n",
    "print(\"Len: {0}\".format(len(mySet)))"
   ]
  },
  {
   "cell_type": "code",
   "execution_count": 37,
   "id": "5d7e4d4a",
   "metadata": {},
   "outputs": [
    {
     "name": "stdout",
     "output_type": "stream",
     "text": [
      "set 1: {1, 2, 3, 4}\n",
      "set 2: {2, 3, 'Ba', 'Hai', 'Một'}\n",
      "set 3: {1, 2, 3, 4, 'Ba', 'Hai', 'Một'}\n"
     ]
    }
   ],
   "source": [
    "set1 = {1, 2, 3, 3, 4}\n",
    "set2 = {\"Một\", \"Hai\", \"Ba\", 2, 3}\n",
    "\n",
    "set3 = set1.union(set2)\n",
    "print(\"set 1: {0}\".format(set1))\n",
    "print(\"set 2: {0}\".format(set2))\n",
    "print(\"set 3: {0}\".format(set3))"
   ]
  },
  {
   "cell_type": "code",
   "execution_count": 34,
   "id": "a83633a2",
   "metadata": {},
   "outputs": [
    {
     "name": "stdout",
     "output_type": "stream",
     "text": [
      "set 1: {1, 2, 3, 'Ba', 'Hai', 'Một'}\n",
      "set 2: {'Hai', 'Ba', 'Một'}\n"
     ]
    }
   ],
   "source": [
    "set1 = {1, 2, 3}\n",
    "set2 = {\"Một\", \"Hai\", \"Ba\"}\n",
    "\n",
    "set1.update(set2)\n",
    "print(\"set 1: {0}\".format(set1))\n",
    "print(\"set 2: {0}\".format(set2))"
   ]
  },
  {
   "cell_type": "code",
   "execution_count": 40,
   "id": "1e87a1ca",
   "metadata": {},
   "outputs": [
    {
     "name": "stdout",
     "output_type": "stream",
     "text": [
      "set1.union(set2):  {2, 4, 5, 6, 7, 8}\n",
      "set1 U set2 :  {2, 4, 5, 6, 7, 8}\n",
      "set1 U set2 U set3 : {2, 4, 5, 6, 7, 8, 9, 10}\n",
      "set1.intersection_update(set2): None\n"
     ]
    }
   ],
   "source": [
    "set1 = {2, 4, 5, 6}\n",
    "set2 = {4, 6, 7, 8}\n",
    "set3 = {7, 8, 9, 10}\n",
    "\n",
    "print(\"set1.union(set2): \", set1.union(set2))\n",
    "\n",
    "# union of two sets\n",
    "print(\"set1 U set2 : \", set1 | set2)\n",
    "\n",
    "# union of three sets\n",
    "print(\"set1 U set2 U set3 :\", set1 |set2 | set3)\n",
    "\n",
    "\n",
    "print(\"set1.intersection_update(set2): {0}\".format(set1.intersection_update(set2)))\n"
   ]
  },
  {
   "cell_type": "code",
   "execution_count": 50,
   "id": "4ac64e05",
   "metadata": {},
   "outputs": [
    {
     "name": "stdout",
     "output_type": "stream",
     "text": [
      "set1.intersection_update(set2): {4, 6}\n",
      "set2.intersection(set3): {8, 7}\n"
     ]
    }
   ],
   "source": [
    "set1 = {2, 4, 5, 6}\n",
    "set2 = {4, 6, 7, 8}\n",
    "set3 = {7, 8, 9, 10}\n",
    "\n",
    "set1.intersection_update(set2)\n",
    "\n",
    "print(\"set1.intersection_update(set2): {0}\".format(set1))\n",
    "\n",
    "set4 = set2.intersection(set3)\n",
    "print(\"set2.intersection(set3): {0}\".format(set4))"
   ]
  },
  {
   "cell_type": "code",
   "execution_count": 48,
   "id": "a09ad636",
   "metadata": {},
   "outputs": [
    {
     "name": "stdout",
     "output_type": "stream",
     "text": [
      "{2, 5, 7, 8}\n",
      "{2, 5, 7, 8}\n"
     ]
    }
   ],
   "source": [
    "set1 = {2, 4, 5, 6}\n",
    "set2 = {4, 6, 7, 8}\n",
    "set3 = {7, 8, 9, 10}\n",
    "\n",
    "# 2, 5, 7, 8\n",
    "set4 = set1.symmetric_difference(set2)\n",
    "print(set4)\n",
    "\n",
    "set1.symmetric_difference_update(set2)\n",
    "print(set1)"
   ]
  },
  {
   "cell_type": "code",
   "execution_count": null,
   "id": "50093ae2",
   "metadata": {},
   "outputs": [],
   "source": []
  }
 ],
 "metadata": {
  "kernelspec": {
   "display_name": "Python 3 (ipykernel)",
   "language": "python",
   "name": "python3"
  },
  "language_info": {
   "codemirror_mode": {
    "name": "ipython",
    "version": 3
   },
   "file_extension": ".py",
   "mimetype": "text/x-python",
   "name": "python",
   "nbconvert_exporter": "python",
   "pygments_lexer": "ipython3",
   "version": "3.9.13"
  }
 },
 "nbformat": 4,
 "nbformat_minor": 5
}
