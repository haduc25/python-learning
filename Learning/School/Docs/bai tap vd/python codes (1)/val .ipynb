{
 "cells": [
  {
   "cell_type": "code",
   "execution_count": 3,
   "id": "f8f5fd24",
   "metadata": {},
   "outputs": [
    {
     "name": "stdout",
     "output_type": "stream",
     "text": [
      "123\n"
     ]
    }
   ],
   "source": [
    "s = \"123\"\n",
    "s= eval(s)\n",
    "print(s)"
   ]
  },
  {
   "cell_type": "code",
   "execution_count": 8,
   "id": "0cf4053f",
   "metadata": {},
   "outputs": [
    {
     "name": "stdout",
     "output_type": "stream",
     "text": [
      "582.0\n"
     ]
    }
   ],
   "source": [
    "import math\n",
    "s = \"123 + 456 + math.sqrt(9)\"\n",
    "s= eval(s)\n",
    "print(s)"
   ]
  },
  {
   "cell_type": "code",
   "execution_count": 14,
   "id": "0294467d",
   "metadata": {},
   "outputs": [
    {
     "name": "stdout",
     "output_type": "stream",
     "text": [
      "10\n",
      "20\n",
      "10 20 "
     ]
    }
   ],
   "source": [
    "def f(a, b, x):\n",
    "    if x > 10:        \n",
    "        return a\n",
    "    if x < 10:\n",
    "        return b\n",
    "    if x == 10:\n",
    "        return a, b\n",
    "\n",
    "a = 10\n",
    "b = 20\n",
    "x = 20\n",
    "print(f(a, b, x))\n",
    "\n",
    "x = 5\n",
    "print(f(a, b, x))\n",
    "\n",
    "x = 10\n",
    "v = f(a, b, x)\n",
    "\n",
    "for i in v:\n",
    "    print(i, end=' ')\n",
    "\n",
    "        "
   ]
  },
  {
   "cell_type": "code",
   "execution_count": null,
   "id": "77b24b24",
   "metadata": {},
   "outputs": [],
   "source": []
  }
 ],
 "metadata": {
  "kernelspec": {
   "display_name": "Python 3 (ipykernel)",
   "language": "python",
   "name": "python3"
  },
  "language_info": {
   "codemirror_mode": {
    "name": "ipython",
    "version": 3
   },
   "file_extension": ".py",
   "mimetype": "text/x-python",
   "name": "python",
   "nbconvert_exporter": "python",
   "pygments_lexer": "ipython3",
   "version": "3.9.13"
  }
 },
 "nbformat": 4,
 "nbformat_minor": 5
}
