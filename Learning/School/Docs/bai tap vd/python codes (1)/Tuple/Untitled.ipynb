{
 "cells": [
  {
   "cell_type": "code",
   "execution_count": 16,
   "id": "134571a9",
   "metadata": {},
   "outputs": [
    {
     "name": "stdout",
     "output_type": "stream",
     "text": [
      "Sum: 10\n",
      "Min: 1\n",
      "Max: 4\n",
      "Len: 4\n",
      "4 thuộc Tuple\n",
      "10 KHÔNG thuộc Tuple\n"
     ]
    }
   ],
   "source": [
    "a = (1, 2, 3)\n",
    "\n",
    "b = list(a)\n",
    "b.append(4)\n",
    "\n",
    "a = tuple(b)\n",
    "print(\"Sum: {0}\".format(sum(a)))\n",
    "print(\"Min: {0}\".format(min(a)))\n",
    "print(\"Max: {0}\".format(max(a)))\n",
    "print(\"Len: {0}\".format(len(a)))\n",
    "x = 4\n",
    "if x in a:\n",
    "    print(\"{0} thuộc Tuple\".format(x))\n",
    "    \n",
    "x = 10\n",
    "if x not in a:\n",
    "    print(\"{0} KHÔNG thuộc Tuple\".format(x))    "
   ]
  },
  {
   "cell_type": "code",
   "execution_count": 18,
   "id": "9b9a5044",
   "metadata": {},
   "outputs": [
    {
     "ename": "NameError",
     "evalue": "name 'a' is not defined",
     "output_type": "error",
     "traceback": [
      "\u001b[1;31m---------------------------------------------------------------------------\u001b[0m",
      "\u001b[1;31mNameError\u001b[0m                                 Traceback (most recent call last)",
      "\u001b[1;32m~\\AppData\\Local\\Temp\\ipykernel_15472\\1497285116.py\u001b[0m in \u001b[0;36m<module>\u001b[1;34m\u001b[0m\n\u001b[0;32m      1\u001b[0m \u001b[1;32mdel\u001b[0m \u001b[0ma\u001b[0m\u001b[1;33m\u001b[0m\u001b[1;33m\u001b[0m\u001b[0m\n\u001b[1;32m----> 2\u001b[1;33m \u001b[0mprint\u001b[0m\u001b[1;33m(\u001b[0m\u001b[0ma\u001b[0m\u001b[1;33m)\u001b[0m\u001b[1;33m\u001b[0m\u001b[1;33m\u001b[0m\u001b[0m\n\u001b[0m",
      "\u001b[1;31mNameError\u001b[0m: name 'a' is not defined"
     ]
    }
   ],
   "source": [
    "del a\n",
    "print(a)"
   ]
  },
  {
   "cell_type": "code",
   "execution_count": null,
   "id": "05c11c46",
   "metadata": {},
   "outputs": [],
   "source": []
  }
 ],
 "metadata": {
  "kernelspec": {
   "display_name": "Python 3 (ipykernel)",
   "language": "python",
   "name": "python3"
  },
  "language_info": {
   "codemirror_mode": {
    "name": "ipython",
    "version": 3
   },
   "file_extension": ".py",
   "mimetype": "text/x-python",
   "name": "python",
   "nbconvert_exporter": "python",
   "pygments_lexer": "ipython3",
   "version": "3.9.13"
  }
 },
 "nbformat": 4,
 "nbformat_minor": 5
}
