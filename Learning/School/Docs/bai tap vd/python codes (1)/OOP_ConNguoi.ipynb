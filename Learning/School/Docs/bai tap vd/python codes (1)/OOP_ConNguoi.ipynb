{
 "cells": [
  {
   "cell_type": "code",
   "execution_count": 27,
   "id": "c5746fba",
   "metadata": {},
   "outputs": [],
   "source": [
    "class ConNguoi:\n",
    "    def __init__(self, hoTen, tuoi):        \n",
    "        self.hoTen = hoTen\n",
    "        self.tuoi = tuoi\n",
    "        \n",
    "    def gioiThieu(self):\n",
    "        print(\"----Phương thức gioiThieu---\")\n",
    "        print(\"Họ và tên:\", self.hoTen, \", Tuổi:\", self.tuoi)"
   ]
  },
  {
   "cell_type": "code",
   "execution_count": 28,
   "id": "d25f604d",
   "metadata": {},
   "outputs": [
    {
     "name": "stdout",
     "output_type": "stream",
     "text": [
      "----Phương thức gioiThieu---\n",
      "Họ và tên: Nguyễn Văn A , Tuổi: 20\n"
     ]
    }
   ],
   "source": [
    "conNguoi = ConNguoi(\"Nguyễn Văn A\", 20)\n",
    "conNguoi.gioiThieu()"
   ]
  },
  {
   "cell_type": "code",
   "execution_count": 29,
   "id": "ece7f5b2",
   "metadata": {},
   "outputs": [],
   "source": [
    "class SinhVien(ConNguoi):\n",
    "    def __init__(self, hoTen, tuoi, lop, maSV):\n",
    "        super().__init__(hoTen, tuoi)\n",
    "        self.Lop = lop\n",
    "        self.MaSinhVien = maSV\n",
    "    def thongTin(self):\n",
    "        print(\"----Phương thức thongTin---\")\n",
    "        print(\"Họ tên:\", self.hoTen)\n",
    "        print(\"Tuổi:\", self.tuoi)\n",
    "        print(\"Lớp:\", self.Lop)\n",
    "        print(\"Mã sinh viên:\", self.MaSinhVien)\n",
    "        "
   ]
  },
  {
   "cell_type": "code",
   "execution_count": 33,
   "id": "26814216",
   "metadata": {},
   "outputs": [
    {
     "name": "stdout",
     "output_type": "stream",
     "text": [
      "----Phương thức thongTin---\n",
      "Họ tên: Nguyễn Văn A\n",
      "Tuổi: 20\n",
      "Lớp: CNTT K18\n",
      "Mã sinh viên: SV 0001\n",
      "----Phương thức gioiThieu---\n",
      "Họ và tên: Nguyễn Văn A , Tuổi: 20\n",
      "Tuổi:  20\n"
     ]
    }
   ],
   "source": [
    "sv = SinhVien(\"Nguyễn Văn A\", 20, \"CNTT K18\", \"SV 0001\")\n",
    "\n",
    "sv.thongTin()\n",
    "\n",
    "sv.gioiThieu()\n",
    "\n",
    "print(\"Tuổi: \",sv.tuoi)\n"
   ]
  },
  {
   "cell_type": "code",
   "execution_count": null,
   "id": "d37c32ec",
   "metadata": {},
   "outputs": [],
   "source": []
  }
 ],
 "metadata": {
  "kernelspec": {
   "display_name": "Python 3 (ipykernel)",
   "language": "python",
   "name": "python3"
  },
  "language_info": {
   "codemirror_mode": {
    "name": "ipython",
    "version": 3
   },
   "file_extension": ".py",
   "mimetype": "text/x-python",
   "name": "python",
   "nbconvert_exporter": "python",
   "pygments_lexer": "ipython3",
   "version": "3.9.13"
  }
 },
 "nbformat": 4,
 "nbformat_minor": 5
}
