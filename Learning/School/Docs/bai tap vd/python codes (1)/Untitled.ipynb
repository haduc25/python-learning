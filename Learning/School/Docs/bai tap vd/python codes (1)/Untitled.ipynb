{
 "cells": [
  {
   "cell_type": "code",
   "execution_count": 11,
   "id": "bab9e70f",
   "metadata": {},
   "outputs": [
    {
     "name": "stdout",
     "output_type": "stream",
     "text": [
      "[8, 4, 6]\n",
      "(1, 2, 3)\n",
      "(1, 2, 3, 4, 5, 6)\n"
     ]
    }
   ],
   "source": [
    "myTuple = (\"mouse\", [8, 4, 6], (1, 2, 3))    \n",
    "#print(myTuple[1][0])    # In ra giá trị 4\n",
    "\n",
    "#len(myTuple)\n",
    "#for x in myTuple:print(x)\n",
    "for x in myTuple[1:3]: print(x)\n",
    "    \n",
    "a = (1, 2, 3) + (4, 5, 6)\n",
    "print(a)"
   ]
  },
  {
   "cell_type": "code",
   "execution_count": 1,
   "id": "395211a2",
   "metadata": {},
   "outputs": [],
   "source": [
    "myTuple = (\"oto\", \"xe may\", \"may bay\")"
   ]
  },
  {
   "cell_type": "code",
   "execution_count": 3,
   "id": "34b2fa61",
   "metadata": {},
   "outputs": [
    {
     "name": "stdout",
     "output_type": "stream",
     "text": [
      "oto xe may may bay "
     ]
    }
   ],
   "source": [
    "for x in myTuple: \n",
    "    print(x, end =' ')"
   ]
  },
  {
   "cell_type": "code",
   "execution_count": 4,
   "id": "04f5c592",
   "metadata": {},
   "outputs": [
    {
     "name": "stdout",
     "output_type": "stream",
     "text": [
      "xe may may bay "
     ]
    }
   ],
   "source": [
    "for x in myTuple[1:3]: \n",
    "    print(x, end =' ')"
   ]
  },
  {
   "cell_type": "code",
   "execution_count": null,
   "id": "4e61640e",
   "metadata": {},
   "outputs": [],
   "source": []
  }
 ],
 "metadata": {
  "kernelspec": {
   "display_name": "Python 3 (ipykernel)",
   "language": "python",
   "name": "python3"
  },
  "language_info": {
   "codemirror_mode": {
    "name": "ipython",
    "version": 3
   },
   "file_extension": ".py",
   "mimetype": "text/x-python",
   "name": "python",
   "nbconvert_exporter": "python",
   "pygments_lexer": "ipython3",
   "version": "3.9.13"
  }
 },
 "nbformat": 4,
 "nbformat_minor": 5
}
