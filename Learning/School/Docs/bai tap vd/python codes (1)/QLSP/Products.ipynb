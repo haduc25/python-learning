{
 "cells": [
  {
   "cell_type": "code",
   "execution_count": 17,
   "id": "428356b3",
   "metadata": {},
   "outputs": [],
   "source": [
    "class Product:\n",
    "    def __init__(self, id, name, price):\n",
    "        self._id = id\n",
    "        self._name = name\n",
    "        self._price = price\n",
    "    \n",
    "    def getId():\n",
    "        return self._id\n",
    "    \n",
    "    def setId(id):\n",
    "        self._Id = id\n",
    "\n",
    "    def getName():\n",
    "        return self._name\n",
    "    \n",
    "    def setName(name):\n",
    "        self._name = name\n",
    "\n",
    "    def getPrice():\n",
    "        return self._price\n",
    "    \n",
    "    def setName(price):\n",
    "        self._price = price\n",
    "    \n",
    "    def show(self):\n",
    "        #print(\"Id: {0}, Name: {1}, Price: {2}\".format(self._id, self._name, self._price))\n",
    "        print(\"{0}, {1}, {2}\".format(self._id, self._name, self._price))\n",
    "        \n",
    "        "
   ]
  },
  {
   "cell_type": "code",
   "execution_count": 18,
   "id": "a7c3c1bb",
   "metadata": {},
   "outputs": [
    {
     "name": "stdout",
     "output_type": "stream",
     "text": [
      "Id: 10, Name: A, Price: 20\n"
     ]
    }
   ],
   "source": [
    "sp = Product(10, \"A\", 20)\n",
    "sp.show()"
   ]
  },
  {
   "cell_type": "code",
   "execution_count": null,
   "id": "56daf0a0",
   "metadata": {},
   "outputs": [],
   "source": []
  }
 ],
 "metadata": {
  "kernelspec": {
   "display_name": "Python 3 (ipykernel)",
   "language": "python",
   "name": "python3"
  },
  "language_info": {
   "codemirror_mode": {
    "name": "ipython",
    "version": 3
   },
   "file_extension": ".py",
   "mimetype": "text/x-python",
   "name": "python",
   "nbconvert_exporter": "python",
   "pygments_lexer": "ipython3",
   "version": "3.9.13"
  }
 },
 "nbformat": 4,
 "nbformat_minor": 5
}
