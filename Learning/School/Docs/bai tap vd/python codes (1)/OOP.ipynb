{
 "cells": [
  {
   "cell_type": "code",
   "execution_count": 8,
   "id": "df295719",
   "metadata": {},
   "outputs": [
    {
     "name": "stdout",
     "output_type": "stream",
     "text": [
      "----Gọi phương thức thông tin của đối tượng Con người\n",
      "Tên của người này là Nguyễn Văn A\n",
      "----Gọi phương thức thông tin của đối tượng sinh viên\n",
      "Tên của sinh viên này là Bình\n",
      "MSSV của sinh viên này là 123456\n",
      "----Gọi phương thức thông tin của đối tượng Con người\n",
      "Tên của sinh viên này là Bình\n",
      "MSSV của sinh viên này là 123456\n",
      "----Gọi phương thức thông tin của đối tượng sinh viên\n",
      "Tên của sinh viên này là Bình\n",
      "MSSV của sinh viên này là 123456\n"
     ]
    }
   ],
   "source": [
    "class ConNguoi:\n",
    "    def __init__(self, ten):\n",
    "        self.ten = ten\n",
    "    def thongTin(self):\n",
    "        print(\"Tên của người này là\", self.ten)\n",
    "\n",
    "class SinhVien(ConNguoi):\n",
    "    def __init__(self, ten, mssv):\n",
    "        super().__init__(ten)\n",
    "        self.mssv = mssv\n",
    "    def thongTin(self):\n",
    "        print(\"Tên của sinh viên này là\", self.ten)\n",
    "        print(\"MSSV của sinh viên này là\", self.mssv)\n",
    "\n",
    "# Tạo một đối tượng thuộc lớp ConNguoi\n",
    "cn = ConNguoi(\"Nguyễn Văn A\")\n",
    "\n",
    "\n",
    "# Tạo một đối tượng thuộc lớp SinhVien\n",
    "sinhVien = SinhVien(\"Bình\", \"123456\")\n",
    "\n",
    "# Gọi phương thức thông tin từ đối tượng con người\n",
    "print(\"----Gọi phương thức thông tin của đối tượng Con người\")\n",
    "cn.thongTin()\n",
    "\n",
    "print(\"----Gọi phương thức thông tin của đối tượng sinh viên\")\n",
    "# Gọi phương thức thông tin từ đối tượng sinh viên\n",
    "sinhVien.thongTin()\n",
    "\n",
    "\n",
    "cn = sinhVien\n",
    "\n",
    "print(\"----Gọi phương thức thông tin của đối tượng Con người\")\n",
    "cn.thongTin()\n",
    "\n",
    "print(\"----Gọi phương thức thông tin của đối tượng sinh viên\")\n",
    "sinhVien.thongTin()"
   ]
  },
  {
   "cell_type": "code",
   "execution_count": null,
   "id": "40377c7d",
   "metadata": {},
   "outputs": [],
   "source": []
  }
 ],
 "metadata": {
  "kernelspec": {
   "display_name": "Python 3 (ipykernel)",
   "language": "python",
   "name": "python3"
  },
  "language_info": {
   "codemirror_mode": {
    "name": "ipython",
    "version": 3
   },
   "file_extension": ".py",
   "mimetype": "text/x-python",
   "name": "python",
   "nbconvert_exporter": "python",
   "pygments_lexer": "ipython3",
   "version": "3.9.13"
  }
 },
 "nbformat": 4,
 "nbformat_minor": 5
}
