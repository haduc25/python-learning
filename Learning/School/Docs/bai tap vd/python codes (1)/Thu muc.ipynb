{
 "cells": [
  {
   "cell_type": "code",
   "execution_count": 15,
   "id": "961a2643",
   "metadata": {},
   "outputs": [
    {
     "name": "stdout",
     "output_type": "stream",
     "text": [
      "['05-CNTT_NGUYEN HUNG DUNG(36-51).pdf', '1', '10-CNTT-NGUYEN THAI NGHE(81-91) (1).pdf', '10-CNTT-NGUYEN THAI NGHE(81-91).pdf', '2', '20211026_CTDT_K20 V9_Final_update_cotloi.xlsm', '2347-Bài báo-1472-1-10-20210422.pdf', '3', 'abc', 'CNTT_K10_NLP333_Xu ly ngon ngu tu nhien_3TC.pdf', 'Ds lớp Sơn La K19H CNTT.xlsx', 'file_DS CB tham du DG CTDT theo AUN-QA (1).xlsx', 'GoogleDriveSetup.exe', 'hngdnkimimnm2022.zip', 'ICTU_Quy định và Danh mục chuyển đổi VTCT_DU THAO.docx', 'Kế hoạch 22_Đánh giá kiểm điểm xếp loại TCCSĐ, đảng viên_  tập thể, cá nhân lãnh đạo quản lý.pdf', 'Lien', 'ml-25m', 'ml-25m.zip', 'Mẫu 2a_Phiếu tự phân tích đánh giá, xếp loại chất lượng đảng viên.docx', 'Mẫu 2_Kiểm điểm đảng viên.docx', 'Mẫu 4a,4b. Phiếu biểu quyết xếp loại chi bộ, đảng viên.doc', 'Mẫu 5_ Phiếu bổ sung hồ sơ đảng viên.docx', 'Mẫu 7_Bản cảm kết.docx', 'Mẫu 8_Nhận diện 27 biểu hiện.docx', 'New folder', 'Phuong Tri', 'QLBH', 'rufus-3.21.exe', 'USB Boots']\n"
     ]
    }
   ],
   "source": [
    "import os\n",
    "#os.mkdir('test1')\n",
    "#os.rmdir('test1')\n",
    "allfiles = os.listdir(\"d:\\Downloads\")\n",
    "print (allfiles)"
   ]
  },
  {
   "cell_type": "code",
   "execution_count": null,
   "id": "0ae43c9a",
   "metadata": {},
   "outputs": [],
   "source": []
  }
 ],
 "metadata": {
  "kernelspec": {
   "display_name": "Python 3 (ipykernel)",
   "language": "python",
   "name": "python3"
  },
  "language_info": {
   "codemirror_mode": {
    "name": "ipython",
    "version": 3
   },
   "file_extension": ".py",
   "mimetype": "text/x-python",
   "name": "python",
   "nbconvert_exporter": "python",
   "pygments_lexer": "ipython3",
   "version": "3.9.13"
  }
 },
 "nbformat": 4,
 "nbformat_minor": 5
}
