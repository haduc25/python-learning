{
 "cells": [
  {
   "cell_type": "code",
   "execution_count": 1,
   "id": "5801687d",
   "metadata": {},
   "outputs": [
    {
     "name": "stdout",
     "output_type": "stream",
     "text": [
      "['Táo', 'Chuối', 'Cam', 'Bưởi']\n"
     ]
    }
   ],
   "source": [
    "myList =[\"Táo\", \"Chuối\",\"Cam\",\"Bưởi\"]\n",
    "print(myList)"
   ]
  },
  {
   "cell_type": "code",
   "execution_count": 2,
   "id": "10ceb891",
   "metadata": {},
   "outputs": [
    {
     "name": "stdout",
     "output_type": "stream",
     "text": [
      "['Táo', 'Chuối', 'Cam', 'Bưởi', 'Táo']\n"
     ]
    }
   ],
   "source": [
    "# Các phần tử có thể trùng nhau\n",
    "myList =[\"Táo\", \"Chuối\",\"Cam\",\"Bưởi\", \"Táo\"]\n",
    "print(myList)"
   ]
  },
  {
   "cell_type": "code",
   "execution_count": 3,
   "id": "9ac0fbba",
   "metadata": {},
   "outputs": [
    {
     "name": "stdout",
     "output_type": "stream",
     "text": [
      "Táo\n",
      "Chuối\n",
      "Cam\n",
      "Bưởi\n",
      "Táo\n"
     ]
    }
   ],
   "source": [
    "print(myList[0])\n",
    "print(myList[1])\n",
    "print(myList[2])\n",
    "print(myList[3])\n",
    "print(myList[4])"
   ]
  },
  {
   "cell_type": "code",
   "execution_count": 5,
   "id": "84fa8def",
   "metadata": {},
   "outputs": [
    {
     "name": "stdout",
     "output_type": "stream",
     "text": [
      "5\n"
     ]
    }
   ],
   "source": [
    "# Hàm len trả về số phần tử\n",
    "n = len(myList)\n",
    "print(n)"
   ]
  },
  {
   "cell_type": "code",
   "execution_count": 13,
   "id": "38e93b52",
   "metadata": {},
   "outputs": [
    {
     "name": "stdout",
     "output_type": "stream",
     "text": [
      "['Táo', 'Chuối', 'Cam', 'Bưởi', 'Táo', 1, 2, 3, \"['A','B']\"]\n",
      "['A','B']\n"
     ]
    }
   ],
   "source": [
    "# List có thể chứa các kiểu dữ liệu khác nhau\n",
    "myList =[\"Táo\", \"Chuối\",\"Cam\",\"Bưởi\", \"Táo\", 1, 2, 3,\"['A','B']\"]\n",
    "print(myList)\n",
    "print(myList[8])\n",
    "a = myList[8]\n",
    "\n",
    "#type(a) # Kiểu dữ liệu của a\n",
    "#type(myList) # Kiểu dữ liệu của a"
   ]
  },
  {
   "cell_type": "code",
   "execution_count": 16,
   "id": "2a5e90cf",
   "metadata": {},
   "outputs": [
    {
     "name": "stdout",
     "output_type": "stream",
     "text": [
      "['apple', 'banana', 'cherry']\n"
     ]
    }
   ],
   "source": [
    "# Sử dụng hàm khởi tạo list\n",
    "myList = list((\"apple\", \"banana\", \"cherry\"))\n",
    "print(myList)"
   ]
  },
  {
   "cell_type": "code",
   "execution_count": 18,
   "id": "eebff412",
   "metadata": {},
   "outputs": [
    {
     "name": "stdout",
     "output_type": "stream",
     "text": [
      "cherry\n",
      "cherry\n"
     ]
    }
   ],
   "source": [
    "# Sử dụng hàm khởi tạo list\n",
    "myList = list((\"apple\", \"banana\", \"cherry\"))\n",
    "print(myList[2])\n",
    "print(myList[-1])"
   ]
  },
  {
   "cell_type": "code",
   "execution_count": 19,
   "id": "a9e6c145",
   "metadata": {},
   "outputs": [
    {
     "name": "stdout",
     "output_type": "stream",
     "text": [
      "banana\n",
      "banana\n"
     ]
    }
   ],
   "source": [
    "# Sử dụng hàm khởi tạo list\n",
    "myList = list((\"apple\", \"banana\", \"cherry\"))\n",
    "print(myList[1])\n",
    "print(myList[-2])"
   ]
  },
  {
   "cell_type": "code",
   "execution_count": 20,
   "id": "5f1dcd9f",
   "metadata": {},
   "outputs": [
    {
     "name": "stdout",
     "output_type": "stream",
     "text": [
      "[4, 5, 6, 7]\n"
     ]
    }
   ],
   "source": [
    "# Sử dụng hàm khởi tạo list\n",
    "#         0  1  2  3  4  5  6  7   \n",
    "myList = [1, 2, 3, 4, 5, 6, 7, 8, 9, 10]\n",
    "a = 3\n",
    "b = 7\n",
    "print(myList[a: b])"
   ]
  },
  {
   "cell_type": "code",
   "execution_count": 21,
   "id": "db0f2bfe",
   "metadata": {},
   "outputs": [
    {
     "name": "stdout",
     "output_type": "stream",
     "text": [
      "[1, 2, 3]\n"
     ]
    }
   ],
   "source": [
    "# Sử dụng hàm khởi tạo list\n",
    "#         0  1  2  3  4  5  6  7   \n",
    "myList = [1, 2, 3, 4, 5, 6, 7, 8, 9, 10]\n",
    "a = 1\n",
    "b = 3\n",
    "print(myList[: b])"
   ]
  },
  {
   "cell_type": "code",
   "execution_count": 22,
   "id": "e612c9ea",
   "metadata": {},
   "outputs": [
    {
     "name": "stdout",
     "output_type": "stream",
     "text": [
      "[3, 4, 5, 6, 7, 8, 9, 10]\n"
     ]
    }
   ],
   "source": [
    "# Sử dụng hàm khởi tạo list\n",
    "#         0  1  2  3  4  5  6  7   \n",
    "myList = [1, 2, 3, 4, 5, 6, 7, 8, 9, 10]\n",
    "a = 2\n",
    "b = 3\n",
    "print(myList[a:])"
   ]
  },
  {
   "cell_type": "code",
   "execution_count": 23,
   "id": "3e242834",
   "metadata": {},
   "outputs": [
    {
     "name": "stdout",
     "output_type": "stream",
     "text": [
      "[3, 4, 5]\n",
      "[1, 2, 3, 4, 5]\n",
      "[3, 4, 5, 6, 7, 8, 9, 10]\n"
     ]
    }
   ],
   "source": [
    "myList = [1, 2, 3, 4, 5, 6, 7, 8, 9, 10]\n",
    "a = 2\n",
    "b = 5\n",
    "print(myList[a:b])\n",
    "print(myList[:b])\n",
    "print(myList[a:])"
   ]
  },
  {
   "cell_type": "code",
   "execution_count": 24,
   "id": "a233aa74",
   "metadata": {},
   "outputs": [],
   "source": [
    "myList = [\"apple\", \"banana\", \"cherry\", \"orange\", \"kiwi\", \"melon\", \"mango\"]\n"
   ]
  },
  {
   "cell_type": "code",
   "execution_count": 27,
   "id": "d03bee3f",
   "metadata": {},
   "outputs": [
    {
     "data": {
      "text/plain": [
       "['orange', 'kiwi', 'melon']"
      ]
     },
     "execution_count": 27,
     "metadata": {},
     "output_type": "execute_result"
    }
   ],
   "source": [
    "#myList[-4] #\"orange\"\n",
    "#myList[-1] # \"mango\"\n",
    "myList[-4:-1] # \"orange\", \"kiwi\", \"melon\", \"mango\""
   ]
  },
  {
   "cell_type": "code",
   "execution_count": 28,
   "id": "e3d5cc67",
   "metadata": {},
   "outputs": [
    {
     "name": "stdout",
     "output_type": "stream",
     "text": [
      "['Mã sinh viên', 'Họ tên', 'Quê quán']\n"
     ]
    }
   ],
   "source": [
    "myList =[\"Mã sinh viên\",\"Họ tên\", \"Quê quán\", \"Ghi chú\"]\n",
    "\n",
    "print(myList[:-1])"
   ]
  },
  {
   "cell_type": "code",
   "execution_count": 29,
   "id": "b67a3b23",
   "metadata": {},
   "outputs": [
    {
     "name": "stdout",
     "output_type": "stream",
     "text": [
      "Có táo trong cửa hàng\n"
     ]
    }
   ],
   "source": [
    "myList = [\"apple\", \"banana\", \"cherry\", \"orange\", \"kiwi\", \"melon\", \"mango\"]\n",
    "if \"apple\" in myList:\n",
    "    print(\"Có táo trong cửa hàng\")\n"
   ]
  },
  {
   "cell_type": "code",
   "execution_count": 30,
   "id": "87fd28f4",
   "metadata": {},
   "outputs": [
    {
     "name": "stdout",
     "output_type": "stream",
     "text": [
      "['apple', 'blackcurrant', 'watermelon', 'orange', 'kiwi', 'mango']\n"
     ]
    }
   ],
   "source": [
    "myList = [\"apple\", \"banana\", \"cherry\", \"orange\", \"kiwi\", \"mango\"]\n",
    "myList[1:3] = [\"blackcurrant\", \"watermelon\"]\n",
    "\n",
    "print(myList)"
   ]
  },
  {
   "cell_type": "code",
   "execution_count": 31,
   "id": "6a38d4c9",
   "metadata": {},
   "outputs": [
    {
     "name": "stdout",
     "output_type": "stream",
     "text": [
      "['apple', 'banana', 'cherry', 'orange', 'kiwi', 'mango', 'A']\n"
     ]
    }
   ],
   "source": [
    "myList = [\"apple\", \"banana\", \"cherry\", \"orange\", \"kiwi\", \"mango\"]\n",
    "myList.append(\"A\")\n",
    "print(myList)"
   ]
  },
  {
   "cell_type": "code",
   "execution_count": 33,
   "id": "e86eb7fa",
   "metadata": {},
   "outputs": [
    {
     "name": "stdout",
     "output_type": "stream",
     "text": [
      "['apple', 'banana', 'A', 'cherry', 'orange', 'kiwi', 'mango']\n"
     ]
    }
   ],
   "source": [
    "myList = [\"apple\", \"banana\", \"cherry\", \"orange\", \"kiwi\", \"mango\"]\n",
    "myList.insert(2,\"A\")\n",
    "print(myList)"
   ]
  },
  {
   "cell_type": "code",
   "execution_count": 38,
   "id": "ef4cdd26",
   "metadata": {},
   "outputs": [
    {
     "name": "stdout",
     "output_type": "stream",
     "text": [
      "[1, 2, 3, 4, 5, 6, 7]\n"
     ]
    }
   ],
   "source": [
    "a = [1, 2, 3, 4]\n",
    "b = [5, 6, 7]\n",
    "\n",
    "#a.extend(b)\n",
    "#print(a)\n",
    "a = a + b\n",
    "print(a)"
   ]
  },
  {
   "cell_type": "code",
   "execution_count": 41,
   "id": "fcb00c7d",
   "metadata": {},
   "outputs": [
    {
     "name": "stdout",
     "output_type": "stream",
     "text": [
      "['banana', 'cherry', 'orange', 'kiwi', 'mango', 'apple']\n"
     ]
    }
   ],
   "source": [
    "myList = [\"apple\", \"banana\", \"cherry\", \"orange\", \"kiwi\", \"mango\", \"apple\"]\n",
    "myList.remove(\"apple\")\n",
    "print(myList)"
   ]
  },
  {
   "cell_type": "code",
   "execution_count": 42,
   "id": "4c320b39",
   "metadata": {},
   "outputs": [
    {
     "name": "stdout",
     "output_type": "stream",
     "text": [
      "['apple', 'cherry', 'orange', 'kiwi', 'mango', 'apple']\n"
     ]
    }
   ],
   "source": [
    "myList = [\"apple\", \"banana\", \"cherry\", \"orange\", \"kiwi\", \"mango\", \"apple\"]\n",
    "myList.pop(1)\n",
    "print(myList)"
   ]
  },
  {
   "cell_type": "code",
   "execution_count": 48,
   "id": "31f08e92",
   "metadata": {},
   "outputs": [
    {
     "name": "stdout",
     "output_type": "stream",
     "text": [
      "[]\n"
     ]
    }
   ],
   "source": [
    "myList = [\"apple\", \"banana\", \"cherry\", \"orange\", \"kiwi\", \"mango\", \"apple\"]\n",
    "\n",
    "# Duyệt từng phần tử\n",
    "while len(myList) != 0:\n",
    "    #myList.pop(0) # xóa phần tử đầu\n",
    "    myList.pop() # xóa phần tử cuối\n",
    "    \n",
    "print(myList)\n",
    "\n",
    "\n",
    "    "
   ]
  },
  {
   "cell_type": "code",
   "execution_count": 47,
   "id": "0d94cdf5",
   "metadata": {},
   "outputs": [
    {
     "name": "stdout",
     "output_type": "stream",
     "text": [
      "[]\n"
     ]
    }
   ],
   "source": [
    "myList = [\"apple\", \"banana\", \"cherry\", \"orange\", \"kiwi\", \"mango\", \"apple\"]\n",
    "myList.clear()\n",
    "print(myList)"
   ]
  },
  {
   "cell_type": "code",
   "execution_count": 51,
   "id": "57a03bf1",
   "metadata": {},
   "outputs": [
    {
     "name": "stdout",
     "output_type": "stream",
     "text": [
      "['apple', 'A', 'banana', 'cherry', 'orange', 'kiwi', 'mango', 'apple', 'C']\n",
      "[]\n"
     ]
    }
   ],
   "source": [
    "myList = [\"apple\", \"banana\", \"cherry\", \"orange\", \"kiwi\", \"mango\", \"apple\"]\n",
    "\n",
    "myList.append(\"C\")\n",
    "myList.insert(1,\"A\")\n",
    "print(myList)\n",
    "\n",
    "myList.pop(5)\n",
    "myList.pop()\n",
    "\n",
    "myList.clear()\n",
    "print(myList)\n"
   ]
  },
  {
   "cell_type": "code",
   "execution_count": 58,
   "id": "e6b7def9",
   "metadata": {},
   "outputs": [
    {
     "name": "stdout",
     "output_type": "stream",
     "text": [
      "apple - banana - cherry - orange - kiwi - mango - apple - \n",
      "apple - banana - cherry - orange - kiwi - mango - apple - "
     ]
    }
   ],
   "source": [
    "myList = [\"apple\", \"banana\", \"cherry\", \"orange\", \"kiwi\", \"mango\", \"apple\"]\n",
    "\n",
    "for x in myList:\n",
    "    print(x, end = ' - ')\n",
    "\n",
    "print()\n",
    "\n",
    "for i in range(len(myList)):\n",
    "    print(myList[i], end = ' - ')"
   ]
  },
  {
   "cell_type": "code",
   "execution_count": 73,
   "id": "a299caaf",
   "metadata": {},
   "outputs": [
    {
     "name": "stdout",
     "output_type": "stream",
     "text": [
      "['apple', 'banana', 'orange', 'mango', 'apple']\n",
      "['apple', 'banana', 'cherry', 'orange', 'kiwi', 'mango', 'apple']\n",
      "['APPLE', 'BANANA', 'CHERRY', 'ORANGE', 'KIWI', 'MANGO', 'APPLE']\n",
      "['apple', 'banana', 'orange', 'mango', 'apple']\n",
      "['apple', 'apple', 'banana', 'cherry', 'kiwi', 'mango', 'orange']\n",
      "['orange', 'mango', 'kiwi', 'cherry', 'banana', 'apple', 'apple']\n",
      "['cherry', 'banana', 'apple']\n"
     ]
    }
   ],
   "source": [
    "myList = [\"apple\", \"banana\", \"cherry\", \"orange\", \"kiwi\", \"mango\", \"apple\"]\n",
    "\n",
    "newList =[]\n",
    "\n",
    "for x in myList:\n",
    "    if \"a\" in x:\n",
    "        newList.append(x)\n",
    "print(newList)\n",
    "\n",
    "newList = [ x for x in myList] # lấy toàn bộ\n",
    "print(newList)\n",
    "\n",
    "newList = [ x.upper() for x in myList] # lấy toàn bộ\n",
    "print(newList)\n",
    "\n",
    "newList = [ x for x in myList if \"a\" in x] # chỉ lấy những tên có ký tự a\n",
    "print(newList)\n",
    "\n",
    "myList.sort()\n",
    "print(myList)\n",
    "\n",
    "myList.sort(reverse = True)\n",
    "print(myList)\n",
    "\n",
    "\n",
    "myList = [\"apple\", \"banana\", \"cherry\"]\n",
    "myList.reverse()\n",
    "print(myList)\n"
   ]
  },
  {
   "cell_type": "code",
   "execution_count": 78,
   "id": "7bf20222",
   "metadata": {},
   "outputs": [
    {
     "name": "stdout",
     "output_type": "stream",
     "text": [
      "['apple', 'banana', 'cherry']\n",
      "['apple', 'banana', 'cherry']\n",
      "['A', 'banana', 'cherry']\n",
      "['apple', 'banana', 'cherry']\n"
     ]
    }
   ],
   "source": [
    "myList = [\"apple\", \"banana\", \"cherry\"]\n",
    "\n",
    "#newList = myList.copy()  # Sử dụng hàm sao chép\n",
    "newList = list(myList)  # Sử dụng hàm tạo list\n",
    "\n",
    "print(myList)\n",
    "print(newList)\n",
    "\n",
    "myList[0] = \"A\"\n",
    "\n",
    "print(myList)\n",
    "print(newList)"
   ]
  },
  {
   "cell_type": "code",
   "execution_count": null,
   "id": "4032db68",
   "metadata": {},
   "outputs": [],
   "source": []
  }
 ],
 "metadata": {
  "kernelspec": {
   "display_name": "Python 3 (ipykernel)",
   "language": "python",
   "name": "python3"
  },
  "language_info": {
   "codemirror_mode": {
    "name": "ipython",
    "version": 3
   },
   "file_extension": ".py",
   "mimetype": "text/x-python",
   "name": "python",
   "nbconvert_exporter": "python",
   "pygments_lexer": "ipython3",
   "version": "3.9.13"
  }
 },
 "nbformat": 4,
 "nbformat_minor": 5
}
