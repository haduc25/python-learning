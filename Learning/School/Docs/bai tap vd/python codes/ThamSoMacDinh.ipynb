{
 "cells": [
  {
   "cell_type": "code",
   "execution_count": 16,
   "id": "f71e6f36",
   "metadata": {},
   "outputs": [
    {
     "name": "stdout",
     "output_type": "stream",
     "text": [
      "10 20 50\n",
      "34 20 50\n",
      "34 5 50\n",
      "1 2 3\n"
     ]
    }
   ],
   "source": [
    "def f(a = 10, b = 20, x = 50):\n",
    "    \"\"\"\n",
    "    Đây là tài liệu về funtion này\n",
    "    input: a, b, c là ba số nguyên\n",
    "    output:\n",
    "        \n",
    "    \n",
    "    \"\"\"\n",
    "    print(a, end = ' ')\n",
    "    print(b, end = ' ')\n",
    "    print(x, end = '\\n')\n",
    "    if x > 10:        \n",
    "        return a\n",
    "    elif x < 10:\n",
    "        return b\n",
    "    else:\n",
    "    #elif x == 10:\n",
    "        return a, b\n",
    "\n",
    "f();\n",
    "f(34);\n",
    "f(34, 5);\n",
    "f(1, 2, 3);"
   ]
  },
  {
   "cell_type": "code",
   "execution_count": null,
   "id": "e84f4898",
   "metadata": {},
   "outputs": [],
   "source": []
  }
 ],
 "metadata": {
  "kernelspec": {
   "display_name": "Python 3 (ipykernel)",
   "language": "python",
   "name": "python3"
  },
  "language_info": {
   "codemirror_mode": {
    "name": "ipython",
    "version": 3
   },
   "file_extension": ".py",
   "mimetype": "text/x-python",
   "name": "python",
   "nbconvert_exporter": "python",
   "pygments_lexer": "ipython3",
   "version": "3.9.13"
  }
 },
 "nbformat": 4,
 "nbformat_minor": 5
}
