{
 "cells": [
  {
   "cell_type": "code",
   "execution_count": 13,
   "id": "30ec184d",
   "metadata": {},
   "outputs": [
    {
     "name": "stdout",
     "output_type": "stream",
     "text": [
      "Nhap so nguyen n:2\n",
      "Nhap so nguyen x:2\n"
     ]
    },
    {
     "data": {
      "text/plain": [
       "3.0"
      ]
     },
     "execution_count": 13,
     "metadata": {},
     "output_type": "execute_result"
    }
   ],
   "source": [
    "def giaiThua(n):\n",
    "    if n==0 or n == 1:\n",
    "        return 1\n",
    "    gt = 1\n",
    "    for i in range(1, n + 1):\n",
    "        gt *= i\n",
    "        \n",
    "    return gt\n",
    "\n",
    "def sum(n, x):\n",
    "    s = 0\n",
    "    for i in range(1, n + 1):\n",
    "        s += pow(x, i)/giaiThua(n)\n",
    "    return s\n",
    "\n",
    "n = int(input(\"Nhap so nguyen n:\"))\n",
    "x = float(input(\"Nhap so nguyen x:\"))\n",
    "sum(n, x)"
   ]
  },
  {
   "cell_type": "code",
   "execution_count": null,
   "id": "cff3e222",
   "metadata": {},
   "outputs": [],
   "source": []
  },
  {
   "cell_type": "code",
   "execution_count": null,
   "id": "31fc26ef",
   "metadata": {},
   "outputs": [],
   "source": [
    "3"
   ]
  }
 ],
 "metadata": {
  "kernelspec": {
   "display_name": "Python 3 (ipykernel)",
   "language": "python",
   "name": "python3"
  },
  "language_info": {
   "codemirror_mode": {
    "name": "ipython",
    "version": 3
   },
   "file_extension": ".py",
   "mimetype": "text/x-python",
   "name": "python",
   "nbconvert_exporter": "python",
   "pygments_lexer": "ipython3",
   "version": "3.9.13"
  }
 },
 "nbformat": 4,
 "nbformat_minor": 5
}
