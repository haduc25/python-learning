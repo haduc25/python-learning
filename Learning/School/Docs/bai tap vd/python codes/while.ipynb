{
 "cells": [
  {
   "cell_type": "code",
   "execution_count": 3,
   "id": "be0079ce",
   "metadata": {},
   "outputs": [
    {
     "name": "stdout",
     "output_type": "stream",
     "text": [
      "Nhập vào số nguyên [1..10]:-10\n",
      "Nhập vào số nguyên [1..10]:-3\n",
      "Nhập vào số nguyên [1..10]:20\n",
      "Nhập vào số nguyên [1..10]:30\n",
      "Nhập vào số nguyên [1..10]:6\n",
      "valu =  36\n"
     ]
    }
   ],
   "source": [
    "value = - 1\n",
    "while value < 1 or value > 10:\n",
    "    value = int(input(\"Nhập vào số nguyên [1..10]:\"))\n",
    "\n",
    "print(\"valu = \" , pow(value, 2));"
   ]
  },
  {
   "cell_type": "code",
   "execution_count": null,
   "id": "75cab685",
   "metadata": {},
   "outputs": [
    {
     "name": "stdout",
     "output_type": "stream",
     "text": [
      "Nhập vào số nguyên [1..10]:-10\n"
     ]
    }
   ],
   "source": [
    "value = - 1\n",
    "while not (value >= 1 and value <= 10):\n",
    "    value = int(input(\"Nhập vào số nguyên [1..10]:\"))\n",
    "\n",
    "print(\"value = \" , pow(value, 2));"
   ]
  },
  {
   "cell_type": "code",
   "execution_count": 9,
   "id": "e993e854",
   "metadata": {},
   "outputs": [
    {
     "name": "stdout",
     "output_type": "stream",
     "text": [
      "0\t1\t2\t3\t4\t5\t6\t7\t8\t9\t"
     ]
    }
   ],
   "source": [
    "for i in range(10):\n",
    "    print(i, end ='\\t')"
   ]
  },
  {
   "cell_type": "code",
   "execution_count": 10,
   "id": "be355df1",
   "metadata": {},
   "outputs": [
    {
     "name": "stdout",
     "output_type": "stream",
     "text": [
      "1\t2\t3\t4\t5\t6\t7\t8\t9\t"
     ]
    }
   ],
   "source": [
    "for i in range(1, 10):\n",
    "    print(i, end ='\\t')"
   ]
  },
  {
   "cell_type": "code",
   "execution_count": 15,
   "id": "c56ba654",
   "metadata": {},
   "outputs": [
    {
     "name": "stdout",
     "output_type": "stream",
     "text": [
      "2\t4\t6\t8\t10\t"
     ]
    }
   ],
   "source": [
    "begin = 2\n",
    "end = 10 + 1\n",
    "step = 2\n",
    "for i in range(begin, end, step):\n",
    "    print(i, end ='\\t')"
   ]
  },
  {
   "cell_type": "code",
   "execution_count": 16,
   "id": "c164dc6c",
   "metadata": {},
   "outputs": [
    {
     "name": "stdout",
     "output_type": "stream",
     "text": [
      "10\t9\t8\t7\t6\t5\t4\t3\t2\t"
     ]
    }
   ],
   "source": [
    "begin = 10\n",
    "end = 1\n",
    "step = -1\n",
    "for i in range(begin, end, step):\n",
    "    print(i, end ='\\t')"
   ]
  },
  {
   "cell_type": "code",
   "execution_count": 17,
   "id": "834b14d1",
   "metadata": {},
   "outputs": [
    {
     "name": "stdout",
     "output_type": "stream",
     "text": [
      "10\t8\t6\t4\t2\t"
     ]
    }
   ],
   "source": [
    "begin = 10\n",
    "end = 1\n",
    "step = -2\n",
    "for i in range(begin, end, step):\n",
    "    print(i, end ='\\t')"
   ]
  },
  {
   "cell_type": "code",
   "execution_count": 20,
   "id": "e14c3cad",
   "metadata": {},
   "outputs": [
    {
     "name": "stdout",
     "output_type": "stream",
     "text": [
      "21:2:2023\n"
     ]
    }
   ],
   "source": [
    "day = 21\n",
    "month = 2\n",
    "year =2023\n",
    "s = ':'\n",
    "print(day, end= s)\n",
    "print(month, end= s)\n",
    "print(year)"
   ]
  },
  {
   "cell_type": "code",
   "execution_count": 23,
   "id": "c29c4095",
   "metadata": {},
   "outputs": [
    {
     "name": "stdout",
     "output_type": "stream",
     "text": [
      "15\n"
     ]
    }
   ],
   "source": [
    "n = 100\n",
    "sum = 0\n",
    "\n",
    "for i in range(1, n, 1):\n",
    "    sum += i\n",
    "    if i == 5:\n",
    "        break;\n",
    "print(sum)"
   ]
  },
  {
   "cell_type": "code",
   "execution_count": 24,
   "id": "8dbd2c6a",
   "metadata": {},
   "outputs": [
    {
     "name": "stdout",
     "output_type": "stream",
     "text": [
      "55\n"
     ]
    }
   ],
   "source": [
    "n = 11\n",
    "sum = 0\n",
    "\n",
    "for i in range(1, n, 1):\n",
    "    sum += i\n",
    "    if i == 5:\n",
    "        continue;\n",
    "print(sum)"
   ]
  },
  {
   "cell_type": "code",
   "execution_count": 25,
   "id": "200d04f0",
   "metadata": {},
   "outputs": [
    {
     "name": "stdout",
     "output_type": "stream",
     "text": [
      "Nhập vào một giá trị:3\n",
      "Giá trị bạn nhập: 3\n",
      "Bạn có muốn nhập nữa không c/kcsdsd\n",
      "Nhập vào một giá trị:3\n",
      "Giá trị bạn nhập: 3\n",
      "Bạn có muốn nhập nữa không c/kfdf\n",
      "Nhập vào một giá trị:6\n",
      "Giá trị bạn nhập: 6\n",
      "Bạn có muốn nhập nữa không c/k43434\n",
      "Nhập vào một giá trị:8\n",
      "Giá trị bạn nhập: 8\n",
      "Bạn có muốn nhập nữa không c/kk\n"
     ]
    }
   ],
   "source": [
    "while True:\n",
    "    a = int(input(\"Nhập vào một giá trị:\"))\n",
    "    print(\"Giá trị bạn nhập:\", a)\n",
    "\n",
    "    s = input(\"Bạn có muốn nhập nữa không c/k\")\n",
    "    if s=='k':\n",
    "        break;"
   ]
  },
  {
   "cell_type": "code",
   "execution_count": 27,
   "id": "65b5bef9",
   "metadata": {},
   "outputs": [
    {
     "name": "stdout",
     "output_type": "stream",
     "text": [
      "Nhập danh sách số dương\n",
      "Nhập số:1\n",
      "Nhập số:2\n",
      "Nhập số:3\n",
      "Nhập số:4\n",
      "Nhập số:-9\n",
      "Bạn nhập sai, thoát\n"
     ]
    }
   ],
   "source": [
    "#Nhập vào một dãy số nguyên dương, tính giá trị trung bình\n",
    "\n",
    "count = sum = 0\n",
    "\n",
    "print(\"Nhập danh sách số dương\")\n",
    "\n",
    "while count < 5:\n",
    "    val = int(input(\"Nhập số:\"))\n",
    "    \n",
    "    if val < 0:\n",
    "        print(\"Bạn nhập sai, thoát\")\n",
    "        break;\n",
    "        \n",
    "    count += 1\n",
    "    sum += val\n",
    "else:\n",
    "    print(\"Trung bình: \", sum/count)\n"
   ]
  },
  {
   "cell_type": "code",
   "execution_count": 31,
   "id": "936325e1",
   "metadata": {},
   "outputs": [
    {
     "name": "stdout",
     "output_type": "stream",
     "text": [
      "Nhập danh sách số dương\n",
      "Nhập số:1\n",
      "Nhập số:2\n",
      "Nhập số:3\n",
      "Nhập số:4\n",
      "Nhập số:-9\n",
      "Bạn nhập sai, thoát\n"
     ]
    }
   ],
   "source": [
    "#Nhập vào một dãy số nguyên dương, tính giá trị trung bình\n",
    "\n",
    "count = sum = 0\n",
    "\n",
    "print(\"Nhập danh sách số dương\")\n",
    "n = 5\n",
    "for i in range(n):\n",
    "    val = int(input(\"Nhập số:\"))    \n",
    "    if val < 0:\n",
    "        print(\"Bạn nhập sai, thoát\")\n",
    "        break;\n",
    "            \n",
    "    sum += val\n",
    "else:\n",
    "    print(\"Trung bình: \", sum/n)"
   ]
  },
  {
   "cell_type": "code",
   "execution_count": 30,
   "id": "0d88ab75",
   "metadata": {},
   "outputs": [
    {
     "ename": "ImportError",
     "evalue": "cannot import name 'clock' from 'time' (unknown location)",
     "output_type": "error",
     "traceback": [
      "\u001b[1;31m---------------------------------------------------------------------------\u001b[0m",
      "\u001b[1;31mImportError\u001b[0m                               Traceback (most recent call last)",
      "\u001b[1;32m~\\AppData\\Local\\Temp\\ipykernel_13192\\690457208.py\u001b[0m in \u001b[0;36m<module>\u001b[1;34m\u001b[0m\n\u001b[1;32m----> 1\u001b[1;33m \u001b[1;32mfrom\u001b[0m \u001b[0mtime\u001b[0m \u001b[1;32mimport\u001b[0m \u001b[0mclock\u001b[0m\u001b[1;33m\u001b[0m\u001b[1;33m\u001b[0m\u001b[0m\n\u001b[0m\u001b[0;32m      2\u001b[0m \u001b[0mprint\u001b[0m\u001b[1;33m(\u001b[0m\u001b[1;34m\"Enter your name: \"\u001b[0m\u001b[1;33m,\u001b[0m \u001b[0mend\u001b[0m\u001b[1;33m=\u001b[0m\u001b[1;34m\"\"\u001b[0m\u001b[1;33m)\u001b[0m\u001b[1;33m\u001b[0m\u001b[1;33m\u001b[0m\u001b[0m\n\u001b[0;32m      3\u001b[0m \u001b[0mstart_time\u001b[0m \u001b[1;33m=\u001b[0m \u001b[0mclock\u001b[0m\u001b[1;33m(\u001b[0m\u001b[1;33m)\u001b[0m\u001b[1;33m\u001b[0m\u001b[1;33m\u001b[0m\u001b[0m\n\u001b[0;32m      4\u001b[0m \u001b[0mname\u001b[0m \u001b[1;33m=\u001b[0m \u001b[0minput\u001b[0m\u001b[1;33m(\u001b[0m\u001b[1;33m)\u001b[0m\u001b[1;33m\u001b[0m\u001b[1;33m\u001b[0m\u001b[0m\n\u001b[0;32m      5\u001b[0m \u001b[0melapsed\u001b[0m \u001b[1;33m=\u001b[0m \u001b[0mclock\u001b[0m\u001b[1;33m(\u001b[0m\u001b[1;33m)\u001b[0m \u001b[1;33m-\u001b[0m \u001b[0mstart_time\u001b[0m\u001b[1;33m\u001b[0m\u001b[1;33m\u001b[0m\u001b[0m\n",
      "\u001b[1;31mImportError\u001b[0m: cannot import name 'clock' from 'time' (unknown location)"
     ]
    }
   ],
   "source": [
    "from time import clock\n",
    "print(\"Enter your name: \", end=\"\")\n",
    "start_time = clock()\n",
    "name = input()\n",
    "elapsed = clock() - start_time\n",
    "print(name, \"it took you\", elapsed, \"seconds to respond\")\n"
   ]
  },
  {
   "cell_type": "code",
   "execution_count": 19,
   "id": "b71096af",
   "metadata": {},
   "outputs": [
    {
     "data": {
      "text/plain": [
       "'nguyễn tuấn anh'"
      ]
     },
     "execution_count": 19,
     "metadata": {},
     "output_type": "execute_result"
    }
   ],
   "source": [
    "name = \"Nguyễn Tuấn Anh\"\n",
    "name.lower()"
   ]
  },
  {
   "cell_type": "code",
   "execution_count": 20,
   "id": "dae3bb72",
   "metadata": {},
   "outputs": [
    {
     "data": {
      "text/plain": [
       "'NGUYỄN TUẤN ANH'"
      ]
     },
     "execution_count": 20,
     "metadata": {},
     "output_type": "execute_result"
    }
   ],
   "source": [
    "name = \"Nguyễn Tuấn Anh\"\n",
    "name.upper()"
   ]
  },
  {
   "cell_type": "code",
   "execution_count": null,
   "id": "542a6d03",
   "metadata": {},
   "outputs": [],
   "source": []
  }
 ],
 "metadata": {
  "kernelspec": {
   "display_name": "Python 3 (ipykernel)",
   "language": "python",
   "name": "python3"
  },
  "language_info": {
   "codemirror_mode": {
    "name": "ipython",
    "version": 3
   },
   "file_extension": ".py",
   "mimetype": "text/x-python",
   "name": "python",
   "nbconvert_exporter": "python",
   "pygments_lexer": "ipython3",
   "version": "3.9.13"
  }
 },
 "nbformat": 4,
 "nbformat_minor": 5
}
