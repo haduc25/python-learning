{
 "cells": [
  {
   "cell_type": "code",
   "execution_count": 2,
   "id": "fcd35471",
   "metadata": {},
   "outputs": [],
   "source": [
    "class ConNguoi:\n",
    "    def __init__(self, ten):\n",
    "        self.ten = ten\n",
    "    def thongTin(self):\n",
    "        print(\"Tên của người này là\", self.ten)\n",
    "\n",
    "class SinhVien(ConNguoi):\n",
    "    def __init__(self, ten, mssv):\n",
    "        super().__init__(ten)\n",
    "        self.mssv = mssv\n",
    "    def thongTin(self):\n",
    "        print(\"Tên của sinh viên này là\", self.ten)\n",
    "        print(\"MSSV của sinh viên này là\", self.mssv)"
   ]
  },
  {
   "cell_type": "code",
   "execution_count": 3,
   "id": "f179730a",
   "metadata": {},
   "outputs": [
    {
     "name": "stdout",
     "output_type": "stream",
     "text": [
      "Tên của người này là Nguyễn Văn A\n"
     ]
    }
   ],
   "source": [
    "cn = ConNguoi(\"Nguyễn Văn A\")\n",
    "cn.thongTin()\n"
   ]
  },
  {
   "cell_type": "code",
   "execution_count": 5,
   "id": "5e1da065",
   "metadata": {},
   "outputs": [
    {
     "name": "stdout",
     "output_type": "stream",
     "text": [
      "Tên của sinh viên này là Nguyễn Văn A\n",
      "MSSV của sinh viên này là SV01\n"
     ]
    }
   ],
   "source": [
    "sv = SinhVien(\"Nguyễn Văn A\", \"SV01\")\n",
    "sv.thongTin()"
   ]
  },
  {
   "cell_type": "code",
   "execution_count": 7,
   "id": "bea97a62",
   "metadata": {},
   "outputs": [
    {
     "name": "stdout",
     "output_type": "stream",
     "text": [
      "Tên của người này là Nguyễn Văn B\n"
     ]
    }
   ],
   "source": [
    "cn = ConNguoi(\"Nguyễn Văn B\")\n",
    "cn.thongTin()"
   ]
  },
  {
   "cell_type": "code",
   "execution_count": 8,
   "id": "98899866",
   "metadata": {},
   "outputs": [
    {
     "name": "stdout",
     "output_type": "stream",
     "text": [
      "Tên của sinh viên này là Nguyễn Văn C\n",
      "MSSV của sinh viên này là SV02\n"
     ]
    }
   ],
   "source": [
    "cn = SinhVien(\"Nguyễn Văn C\", \"SV02\")\n",
    "cn.thongTin()\n"
   ]
  },
  {
   "cell_type": "code",
   "execution_count": null,
   "id": "5cfa20b5",
   "metadata": {},
   "outputs": [],
   "source": []
  }
 ],
 "metadata": {
  "kernelspec": {
   "display_name": "Python 3 (ipykernel)",
   "language": "python",
   "name": "python3"
  },
  "language_info": {
   "codemirror_mode": {
    "name": "ipython",
    "version": 3
   },
   "file_extension": ".py",
   "mimetype": "text/x-python",
   "name": "python",
   "nbconvert_exporter": "python",
   "pygments_lexer": "ipython3",
   "version": "3.9.13"
  }
 },
 "nbformat": 4,
 "nbformat_minor": 5
}
