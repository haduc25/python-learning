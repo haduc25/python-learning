{
 "cells": [
  {
   "cell_type": "code",
   "execution_count": 3,
   "id": "f9356f67",
   "metadata": {},
   "outputs": [
    {
     "data": {
      "text/plain": [
       "'nguyễn văn a'"
      ]
     },
     "execution_count": 3,
     "metadata": {},
     "output_type": "execute_result"
    }
   ],
   "source": [
    "fullname = \"Nguyễn Văn A\"\n",
    "\n",
    "fullname.lower()"
   ]
  },
  {
   "cell_type": "code",
   "execution_count": 4,
   "id": "6e25ab21",
   "metadata": {},
   "outputs": [
    {
     "data": {
      "text/plain": [
       "'NGUYỄN VĂN A'"
      ]
     },
     "execution_count": 4,
     "metadata": {},
     "output_type": "execute_result"
    }
   ],
   "source": [
    "fullname.upper()\n"
   ]
  },
  {
   "cell_type": "code",
   "execution_count": 10,
   "id": "be53024e",
   "metadata": {},
   "outputs": [
    {
     "name": "stdout",
     "output_type": "stream",
     "text": [
      "------------------Nguyễn Văn A\n",
      "Nguyễn Văn A------------------\n",
      "---------Nguyễn Văn A---------\n"
     ]
    }
   ],
   "source": [
    "print(fullname.rjust(30, \"-\"))\n",
    "print(fullname.ljust(30, \"-\"))\n",
    "print(fullname.center(30, \"-\"))"
   ]
  },
  {
   "cell_type": "code",
   "execution_count": 16,
   "id": "b07fdc8a",
   "metadata": {},
   "outputs": [
    {
     "name": "stdout",
     "output_type": "stream",
     "text": [
      "36\n",
      "16\n"
     ]
    }
   ],
   "source": [
    "s = \" Lập trình python                   \"\n",
    "n = s.__len__();\n",
    "print(n)\n",
    "s = s.strip() # Xóa khoảng trắng hai đầu chuỗi\n",
    "n = s.__len__();\n",
    "print(n)"
   ]
  },
  {
   "cell_type": "code",
   "execution_count": 17,
   "id": "11e92dd2",
   "metadata": {},
   "outputs": [
    {
     "name": "stdout",
     "output_type": "stream",
     "text": [
      "string: '  shark  '\n",
      "remove leading: 'shark  '\n",
      "remove trailing: '  shark'\n",
      "remove both: 'shark'\n"
     ]
    }
   ],
   "source": [
    "s1 = '  shark  '\n",
    "print(f\"string: '{s1}'\")\n",
    "\n",
    "s1_remove_leading = s1.lstrip()\n",
    "print(f\"remove leading: '{s1_remove_leading}'\")\n",
    "\n",
    "s1_remove_trailing = s1.rstrip()\n",
    "print(f\"remove trailing: '{s1_remove_trailing}'\")\n",
    "\n",
    "s1_remove_both = s1.strip()\n",
    "print(f\"remove both: '{s1_remove_both}'\")"
   ]
  },
  {
   "cell_type": "code",
   "execution_count": 39,
   "id": "8f87b490",
   "metadata": {},
   "outputs": [
    {
     "name": "stdout",
     "output_type": "stream",
     "text": [
      "-1\n",
      "7\n",
      "15\n"
     ]
    }
   ],
   "source": [
    "s = \"Lập trình python\"\n",
    "#s.startswith(\"Lập\")\n",
    "#s.endswith(\"python\")\n",
    "\n",
    "n = s.find(\"Thị\")\n",
    "print(n)\n",
    "\n",
    "fullname = \"Nguyễn Thị Hoa Thị\"\n",
    "\n",
    "s = fullname.upper()\n",
    "n = s.find(\"THỊ\")\n",
    "print(n)\n",
    "\n",
    "n = s.rfind(\"THỊ\")\n",
    "print(n)\n"
   ]
  },
  {
   "cell_type": "code",
   "execution_count": 61,
   "id": "15ddf7ee",
   "metadata": {},
   "outputs": [
    {
     "name": "stdout",
     "output_type": "stream",
     "text": [
      "Danh sách đã loại trùng lặp: \n",
      "['lap', 'trinh', 'python']\n",
      "lap :  5\n",
      "trinh :  10\n",
      "python :  5\n"
     ]
    }
   ],
   "source": [
    "s = \"\"\"\n",
    "lap trinh python trinh\n",
    "lap trinh python trinh\n",
    "lap trinh python trinh\n",
    "lap trinh python trinh\n",
    "lap trinh python trinh\n",
    "\"\"\"\n",
    "x = s.split()\n",
    "\n",
    "#for item in x:\n",
    "#    print(item, end = ' - ')\n",
    "\n",
    "# Xóa khoảng trắng mỗi từ\n",
    "for i in range(len(x)):\n",
    "    x[i] = x[i].strip()\n",
    "\n",
    "mylist = list(dict.fromkeys(x))\n",
    "\n",
    "print(\"Danh sách đã loại trùng lặp: \")\n",
    "print(mylist)\n",
    "\n",
    "for i in range(len(mylist)):\n",
    "    print(mylist[i],\": \", x.count(mylist[i]))\n"
   ]
  },
  {
   "cell_type": "code",
   "execution_count": 68,
   "id": "3e37f50c",
   "metadata": {},
   "outputs": [
    {
     "name": "stdout",
     "output_type": "stream",
     "text": [
      "lap :  5\n",
      "trinh :  10\n",
      "python :  5\n"
     ]
    }
   ],
   "source": [
    "s = \"\"\"\n",
    "lap trinh python trinh\n",
    "lap trinh python trinh\n",
    "lap trinh python trinh\n",
    "lap trinh python trinh\n",
    "lap trinh python trinh\n",
    "\"\"\"\n",
    "def countWWord(s):\n",
    "    x = s.split()\n",
    "    \n",
    "    mylist = list(dict.fromkeys(x))\n",
    "    for i in range(len(mylist)):\n",
    "        print(mylist[i],\": \", x.count(mylist[i]))\n",
    "\n",
    "countWWord(s)"
   ]
  },
  {
   "cell_type": "code",
   "execution_count": 72,
   "id": "f6fe84a6",
   "metadata": {},
   "outputs": [
    {
     "name": "stdout",
     "output_type": "stream",
     "text": [
      "llo World!\n",
      "Hel\n",
      "Hello Worl\n",
      "d!\n",
      "llo Worl\n",
      "World\n"
     ]
    }
   ],
   "source": [
    "x = \"123456789\"\n",
    "print(x[2:])#\"llo World!\"\n",
    "\n",
    "print(x[:3])#\"Hel\"\n",
    "\n",
    "print(x[:-2])#\"Hello Worl\"\n",
    "\n",
    "\n",
    "print(x[-2:])#\"d!\"\n",
    "print(x[2:-2])#\"llo Worl\"\n",
    "\n",
    "print(x[6:11])#\"World\"\n",
    "\n"
   ]
  },
  {
   "cell_type": "code",
   "execution_count": 84,
   "id": "1858fede",
   "metadata": {},
   "outputs": [
    {
     "name": "stdout",
     "output_type": "stream",
     "text": [
      "0123456789\n",
      "01234\n",
      "56789\n",
      "012345\n",
      "02468\n"
     ]
    }
   ],
   "source": [
    "x = \"0123456789\"\n",
    "n = x.__len__()\n",
    "start = 0\n",
    "end = n\n",
    "print(x[start: end])\n",
    "print(x[: 5])\n",
    "print(x[5:])\n",
    "print(x[0:6:1])\n",
    "print(x[0:10:2])\n"
   ]
  },
  {
   "cell_type": "code",
   "execution_count": 92,
   "id": "fab526c8",
   "metadata": {},
   "outputs": [
    {
     "name": "stdout",
     "output_type": "stream",
     "text": [
      "1, 2, 3, 4\n",
      "1 - 2 - 3 - 4\n"
     ]
    }
   ],
   "source": [
    "s1 = \"1; 2; 3; 4\"\n",
    "x = s1.split(\"; \")\n",
    "\n",
    "s2 = \", \"\n",
    "s2 = s2.join(x)\n",
    "print(s2)\n",
    "\n",
    "s3 = \" - \".join(x)\n",
    "print(s3)"
   ]
  },
  {
   "cell_type": "code",
   "execution_count": 117,
   "id": "8e83c4ac",
   "metadata": {},
   "outputs": [
    {
     "name": "stdout",
     "output_type": "stream",
     "text": [
      "71\n"
     ]
    }
   ],
   "source": [
    "def sum(x):\n",
    "    s = 0\n",
    "    for i in x:\n",
    "        if int(i)> 0:\n",
    "            s += int(i)\n",
    "    return s\n",
    "\n",
    "s = \"5;7;8;-2;8;11;13;9;10\"\n",
    "x = s.split(\";\")\n",
    "#for i in x:    \n",
    "#    print(i, end = ' - ')\n",
    "\n",
    "#for i in range(len(x)):    \n",
    "#    print(x[i], end = ' ')    \n",
    "\n",
    "print(sum(x))"
   ]
  },
  {
   "cell_type": "code",
   "execution_count": null,
   "id": "2d329863",
   "metadata": {},
   "outputs": [],
   "source": []
  }
 ],
 "metadata": {
  "kernelspec": {
   "display_name": "Python 3 (ipykernel)",
   "language": "python",
   "name": "python3"
  },
  "language_info": {
   "codemirror_mode": {
    "name": "ipython",
    "version": 3
   },
   "file_extension": ".py",
   "mimetype": "text/x-python",
   "name": "python",
   "nbconvert_exporter": "python",
   "pygments_lexer": "ipython3",
   "version": "3.9.13"
  }
 },
 "nbformat": 4,
 "nbformat_minor": 5
}
