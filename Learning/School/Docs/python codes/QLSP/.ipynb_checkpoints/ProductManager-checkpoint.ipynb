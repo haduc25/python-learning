{
 "cells": [
  {
   "cell_type": "code",
   "execution_count": 37,
   "id": "ffda780c",
   "metadata": {},
   "outputs": [
    {
     "ename": "SyntaxError",
     "evalue": "invalid syntax (2597667173.py, line 59)",
     "output_type": "error",
     "traceback": [
      "\u001b[1;36m  File \u001b[1;32m\"C:\\Users\\Tuan Anh\\AppData\\Local\\Temp\\ipykernel_19064\\2597667173.py\"\u001b[1;36m, line \u001b[1;32m59\u001b[0m\n\u001b[1;33m    def findById(id)\u001b[0m\n\u001b[1;37m                    ^\u001b[0m\n\u001b[1;31mSyntaxError\u001b[0m\u001b[1;31m:\u001b[0m invalid syntax\n"
     ]
    }
   ],
   "source": [
    "class Product:\n",
    "    def __init__(self, id, name, price):\n",
    "        self._id = id\n",
    "        self._name = name\n",
    "        self._price = price\n",
    "    \n",
    "    def getId(self):\n",
    "        return self._id\n",
    "    \n",
    "    def setId(id):\n",
    "        self._Id = id\n",
    "\n",
    "    def getName(self):\n",
    "        return self._name\n",
    "    \n",
    "    def setName(name):\n",
    "        self._name = name\n",
    "\n",
    "    def getPrice(self):\n",
    "        return self._price\n",
    "    \n",
    "    def setName(price):\n",
    "        self._price = price\n",
    "    \n",
    "    def show(self):\n",
    "        print(\"{0}, {1}, {2}\".format(self._id, self._name, self._price))\n",
    "        \n",
    "\n",
    "class ProductManager:\n",
    "    _listProduct = []\n",
    "    \n",
    "    def generateId(self):\n",
    "        maxId = 1\n",
    "\n",
    "        if len(self._listProduct) > 0:\n",
    "            maxId = self._listProduct[0].getId()\n",
    "\n",
    "            for x in self._listProduct:\n",
    "                if maxId < x.getId():\n",
    "                    maxId = x.getId()\n",
    "\n",
    "            maxId += 1\n",
    "        return maxId \n",
    "    \n",
    "    # Thêm một một product vào danh sách\n",
    "    def input(self):\n",
    "        id = self.generateId()\n",
    "        name = input(\"Tên sản phẩm:\")\n",
    "        price = float(input(\"Giá: \"))\n",
    "        \n",
    "        product  = Product(id, name, price)\n",
    "        \n",
    "        self._listProduct.append(product)\n",
    "    \n",
    "    def showAllProduct(self):\n",
    "        for x in self._listProduct:\n",
    "            x.show()\n",
    "    \n",
    "    def findById(id):\n",
    "        product = None\n",
    "        for x in self._listProduct:\n",
    "            if x.getId() == id\n",
    "                product = x\n",
    "                break\n",
    "        \n",
    "        return product\n",
    "    \n",
    "    def findByName(keyword):\n",
    "        listProduct = []\n",
    "        for x in self._listProduct:\n",
    "            if x.upper() == keyword.upper()\n",
    "                listProduct.append(x)\n",
    "                \n",
    "        \n",
    "        return listProduct    "
   ]
  },
  {
   "cell_type": "code",
   "execution_count": 36,
   "id": "276d9e13",
   "metadata": {},
   "outputs": [
    {
     "name": "stdout",
     "output_type": "stream",
     "text": [
      "Tên sản phẩm:A\n",
      "Giá: 2\n",
      "Tên sản phẩm:B\n",
      "Giá: 6\n",
      "1, A, 2.0\n",
      "2, B, 6.0\n"
     ]
    }
   ],
   "source": [
    "lst = ProductManager()\n",
    "lst.input()\n",
    "lst.input()\n",
    "\n",
    "lst.showAllProduct()"
   ]
  },
  {
   "cell_type": "code",
   "execution_count": null,
   "id": "446935f3",
   "metadata": {},
   "outputs": [],
   "source": []
  }
 ],
 "metadata": {
  "kernelspec": {
   "display_name": "Python 3 (ipykernel)",
   "language": "python",
   "name": "python3"
  },
  "language_info": {
   "codemirror_mode": {
    "name": "ipython",
    "version": 3
   },
   "file_extension": ".py",
   "mimetype": "text/x-python",
   "name": "python",
   "nbconvert_exporter": "python",
   "pygments_lexer": "ipython3",
   "version": "3.9.13"
  }
 },
 "nbformat": 4,
 "nbformat_minor": 5
}
